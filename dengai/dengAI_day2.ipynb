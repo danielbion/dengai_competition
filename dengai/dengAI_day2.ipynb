{
 "cells": [
  {
   "cell_type": "markdown",
   "metadata": {},
   "source": [
    "## Day 2: Split data by location"
   ]
  },
  {
   "cell_type": "code",
   "execution_count": 57,
   "metadata": {},
   "outputs": [],
   "source": [
    "import pandas as pd\n",
    "import matplotlib.pyplot as plt\n",
    "from catboost import CatBoostRegressor, Pool, cv\n",
    "from sklearn.model_selection import train_test_split"
   ]
  },
  {
   "cell_type": "code",
   "execution_count": 58,
   "metadata": {},
   "outputs": [],
   "source": [
    "train_features = pd.read_csv('dengue_features_train.csv')\n",
    "train_labels = pd.read_csv('dengue_labels_train.csv')\n",
    "test_features = pd.read_csv('dengue_features_test.csv')"
   ]
  },
  {
   "cell_type": "code",
   "execution_count": 87,
   "metadata": {},
   "outputs": [],
   "source": [
    "features = {\n",
    "    \"sj\": [\n",
    "        #'ndvi_ne',\n",
    "        #'ndvi_nw',\n",
    "        #'ndvi_se',\n",
    "        #'ndvi_sw',\n",
    "        'precipitation_amt_mm',\n",
    "        'reanalysis_air_temp_k',\n",
    "        'reanalysis_avg_temp_k',\n",
    "        'reanalysis_dew_point_temp_k',\n",
    "        'reanalysis_max_air_temp_k', \n",
    "        'reanalysis_min_air_temp_k',\n",
    "        'reanalysis_precip_amt_kg_per_m2',\n",
    "        'reanalysis_relative_humidity_percent',\n",
    "        'reanalysis_sat_precip_amt_mm',\n",
    "        'reanalysis_specific_humidity_g_per_kg',\n",
    "        'reanalysis_tdtr_k',\n",
    "        'station_avg_temp_c',\n",
    "        'station_diur_temp_rng_c', \n",
    "        'station_max_temp_c',\n",
    "        'station_min_temp_c',\n",
    "        'station_precip_mm'\n",
    "    ],\n",
    "    \"iq\": [\n",
    "        'ndvi_ne',\n",
    "        'ndvi_nw',\n",
    "        'ndvi_se',\n",
    "        'ndvi_sw',\n",
    "        'precipitation_amt_mm',\n",
    "        'reanalysis_air_temp_k',\n",
    "        'reanalysis_avg_temp_k',\n",
    "        'reanalysis_dew_point_temp_k',\n",
    "        'reanalysis_max_air_temp_k', \n",
    "        'reanalysis_min_air_temp_k',\n",
    "        'reanalysis_precip_amt_kg_per_m2',\n",
    "        'reanalysis_relative_humidity_percent',\n",
    "        'reanalysis_sat_precip_amt_mm',\n",
    "        'reanalysis_specific_humidity_g_per_kg',\n",
    "        'reanalysis_tdtr_k',\n",
    "        'station_avg_temp_c',\n",
    "        'station_diur_temp_rng_c', \n",
    "        'station_max_temp_c',\n",
    "        'station_min_temp_c',\n",
    "        'station_precip_mm'\n",
    "    ]\n",
    "}\n",
    "\n",
    "params = {\n",
    "    \"sj\":{\n",
    "        'iterations': [30, 50, 100],\n",
    "        'learning_rate': [0.01, 0.05, 0.1],\n",
    "        'depth': [3, 5]#,\n",
    "        #'l2_leaf_reg': [1, 3, 6, 9]\n",
    "    },\n",
    "    \"iq\":{\n",
    "        'iterations': [30, 50, 100, 300, 500],\n",
    "        'learning_rate': [0.01, 0.05, 0.1],\n",
    "        'depth': [3, 5, 7]\n",
    "        #'l2_leaf_reg': [1, 3, 6, 9]\n",
    "    }\n",
    "}\n",
    "\n",
    "pks = ['city', 'year', 'weekofyear']"
   ]
  },
  {
   "cell_type": "code",
   "execution_count": 60,
   "metadata": {},
   "outputs": [],
   "source": [
    "def train_catboost(train_pool, eval_pool, params):    \n",
    "    model = CatBoostRegressor()\n",
    "    grid_search_result = model.grid_search(\n",
    "        param_grid = params, \n",
    "        X = train_pool,\n",
    "        cv = 3,\n",
    "        verbose = 10)\n",
    "\n",
    "    p = pd.DataFrame.from_dict(grid_search_result).params\n",
    "    print(p)\n",
    "\n",
    "    model = CatBoostRegressor(iterations = p.iterations,\n",
    "                              learning_rate = p.learning_rate,\n",
    "                              depth = p.depth)#,\n",
    "                              #l2_leaf_reg = p.l2_leaf_reg)\n",
    "    \n",
    "    model.fit(train_pool, eval_set=eval_pool, verbose = 100)\n",
    "    \n",
    "    return model"
   ]
  },
  {
   "cell_type": "code",
   "execution_count": 61,
   "metadata": {},
   "outputs": [],
   "source": [
    "def get_metrics(model, train_pool, eval_pool):\n",
    "    train_metrics = model.eval_metrics(train_pool, ['RMSE'], ntree_start = model.tree_count_ - 1)\n",
    "    test_metrics = model.eval_metrics(eval_pool, ['RMSE'], ntree_start = model.tree_count_ - 1)\n",
    "\n",
    "    metrics = pd.DataFrame.from_dict(train_metrics)\\\n",
    "    .append(pd.DataFrame.from_dict(test_metrics), ignore_index=True)\\\n",
    "    .transpose().rename(columns={0:'Train', 1:'Test'})\n",
    "    return metrics"
   ]
  },
  {
   "cell_type": "code",
   "execution_count": 120,
   "metadata": {},
   "outputs": [],
   "source": [
    "def split_data_city(city, train_features, train_labels, features):\n",
    "    city_train_features = train_features[train_features.city == city].reset_index(drop = True).copy()\n",
    "    city_train_labels = train_labels[train_labels.city == city].reset_index(drop = True).copy()\n",
    "\n",
    "    splitted_data = train_test_split(city_train_features[features], city_train_labels.total_cases, test_size=0.2)\n",
    "    train_data, eval_data, train_target, eval_target = splitted_data\n",
    "\n",
    "    train_pool = Pool(data = train_data, label = train_target)\n",
    "    eval_pool = Pool(data = eval_data, label = eval_target)\n",
    "    return (train_pool, eval_pool)"
   ]
  },
  {
   "cell_type": "code",
   "execution_count": 121,
   "metadata": {},
   "outputs": [],
   "source": [
    "def train_city(city, train_features, train_labels, features, params):\n",
    "    print(city)\n",
    "    train_pool, eval_pool = split_data_city(city, train_features, train_labels, features[city])\n",
    "\n",
    "    model = train_catboost(train_pool, eval_pool, params[city])\n",
    "    model.save_model(city)\n",
    "\n",
    "    metrics = get_metrics(model, train_pool, eval_pool)\n",
    "\n",
    "    print(metrics)\n",
    "    print(model.get_feature_importance(prettified = True))\n",
    "    return model"
   ]
  },
  {
   "cell_type": "code",
   "execution_count": 122,
   "metadata": {},
   "outputs": [],
   "source": [
    "def predict_city(city, test_features, features, pks):\n",
    "    city_test_features = test_features[test_features.city == city].reset_index(drop = True).copy()\n",
    "    model = CatBoostRegressor()\n",
    "    model.load_model(city)\n",
    "    test_pred = model.predict(city_test_features[features[city]])\n",
    "    test_pred = pd.DataFrame(test_pred).rename(columns = {0:'total_cases'}).total_cases.map(round)\n",
    "    result = pd.concat([city_test_features[pks], test_pred], axis = 1)\n",
    "    return result"
   ]
  },
  {
   "cell_type": "code",
   "execution_count": 88,
   "metadata": {},
   "outputs": [
    {
     "name": "stdout",
     "output_type": "stream",
     "text": [
      "sj\n",
      "0:\tloss: 77.1009173\tbest: 77.1009173 (0)\ttotal: 129ms\tremaining: 2.2s\n",
      "10:\tloss: 71.2631642\tbest: 67.5250389 (8)\ttotal: 562ms\tremaining: 358ms\n",
      "17:\tloss: 67.0849592\tbest: 67.0849592 (17)\ttotal: 1.27s\tremaining: 0us\n",
      "Estimating final quality...\n",
      "depth                5.0\n",
      "iterations         100.0\n",
      "learning_rate        0.1\n",
      "test-RMSE-mean       NaN\n",
      "test-RMSE-std        NaN\n",
      "train-RMSE-mean      NaN\n",
      "train-RMSE-std       NaN\n",
      "Name: params, dtype: float64\n",
      "0:\tlearn: 49.5809555\ttest: 55.7974633\tbest: 55.7974633 (0)\ttotal: 2.25ms\tremaining: 223ms\n",
      "99:\tlearn: 31.8631735\ttest: 53.2969549\tbest: 53.1885095 (95)\ttotal: 174ms\tremaining: 0us\n",
      "\n",
      "bestTest = 53.18850955\n",
      "bestIteration = 95\n",
      "\n",
      "Shrink model to first 96 iterations.\n",
      "          Train      Test\n",
      "RMSE  32.303245  53.18851\n",
      "                               Feature Id  Importances\n",
      "0                      station_max_temp_c    11.174427\n",
      "1                       reanalysis_tdtr_k    10.786363\n",
      "2         reanalysis_precip_amt_kg_per_m2    10.490100\n",
      "3   reanalysis_specific_humidity_g_per_kg     9.488613\n",
      "4             reanalysis_dew_point_temp_k     8.902989\n",
      "5    reanalysis_relative_humidity_percent     8.802778\n",
      "6                 station_diur_temp_rng_c     7.524483\n",
      "7                       station_precip_mm     5.250565\n",
      "8                   reanalysis_air_temp_k     4.795095\n",
      "9               reanalysis_max_air_temp_k     4.178418\n",
      "10                     station_avg_temp_c     3.704439\n",
      "11                     station_min_temp_c     3.525607\n",
      "12                   precipitation_amt_mm     3.003838\n",
      "13                  reanalysis_avg_temp_k     2.978952\n",
      "14           reanalysis_sat_precip_amt_mm     2.921947\n",
      "15              reanalysis_min_air_temp_k     2.471387\n"
     ]
    },
    {
     "data": {
      "text/plain": [
       "<catboost.core.CatBoostRegressor at 0x231493b8630>"
      ]
     },
     "execution_count": 88,
     "metadata": {},
     "output_type": "execute_result"
    }
   ],
   "source": [
    "train_city('sj', train_features, train_labels, features, params)"
   ]
  },
  {
   "cell_type": "code",
   "execution_count": 85,
   "metadata": {},
   "outputs": [
    {
     "name": "stdout",
     "output_type": "stream",
     "text": [
      "iq\n",
      "0:\tloss: 8.0059848\tbest: 8.0059848 (0)\ttotal: 127ms\tremaining: 5.59s\n",
      "10:\tloss: 6.8793521\tbest: 6.7333173 (8)\ttotal: 977ms\tremaining: 3.02s\n",
      "20:\tloss: 6.8870490\tbest: 6.7240185 (11)\ttotal: 2.82s\tremaining: 3.22s\n",
      "30:\tloss: 8.1126990\tbest: 6.7240185 (11)\ttotal: 7.79s\tremaining: 3.52s\n",
      "40:\tloss: 6.8924313\tbest: 6.6855350 (32)\ttotal: 14.1s\tremaining: 1.38s\n",
      "44:\tloss: 6.6855350\tbest: 6.6855350 (32)\ttotal: 24.2s\tremaining: 0us\n",
      "Estimating final quality...\n",
      "depth               7.0\n",
      "iterations         30.0\n",
      "learning_rate       0.1\n",
      "test-RMSE-mean      NaN\n",
      "test-RMSE-std       NaN\n",
      "train-RMSE-mean     NaN\n",
      "train-RMSE-std      NaN\n",
      "Name: params, dtype: float64\n",
      "0:\tlearn: 9.7843033\ttest: 13.6610794\tbest: 13.6610794 (0)\ttotal: 8.33ms\tremaining: 242ms\n",
      "29:\tlearn: 6.8699660\ttest: 13.3953653\tbest: 13.3826578 (24)\ttotal: 187ms\tremaining: 0us\n",
      "\n",
      "bestTest = 13.38265783\n",
      "bestIteration = 24\n",
      "\n",
      "Shrink model to first 25 iterations.\n",
      "         Train       Test\n",
      "RMSE  7.201397  13.382658\n",
      "                               Feature Id  Importances\n",
      "0   reanalysis_specific_humidity_g_per_kg     8.853465\n",
      "1                      station_avg_temp_c     8.303713\n",
      "2                                 ndvi_sw     7.777522\n",
      "3                 station_diur_temp_rng_c     7.707572\n",
      "4                       station_precip_mm     6.561113\n",
      "5                                 ndvi_nw     6.044893\n",
      "6               reanalysis_min_air_temp_k     5.724302\n",
      "7         reanalysis_precip_amt_kg_per_m2     5.444935\n",
      "8                                 ndvi_se     5.220847\n",
      "9             reanalysis_dew_point_temp_k     4.734571\n",
      "10                  reanalysis_air_temp_k     4.715170\n",
      "11                                ndvi_ne     4.590396\n",
      "12                     station_max_temp_c     4.165261\n",
      "13                     station_min_temp_c     3.839674\n",
      "14   reanalysis_relative_humidity_percent     3.834997\n",
      "15                      reanalysis_tdtr_k     3.297650\n",
      "16                   precipitation_amt_mm     3.040188\n",
      "17           reanalysis_sat_precip_amt_mm     2.468319\n",
      "18                  reanalysis_avg_temp_k     1.857624\n",
      "19              reanalysis_max_air_temp_k     1.817788\n"
     ]
    },
    {
     "data": {
      "text/plain": [
       "<catboost.core.CatBoostRegressor at 0x231493abe10>"
      ]
     },
     "execution_count": 85,
     "metadata": {},
     "output_type": "execute_result"
    }
   ],
   "source": [
    "train_city('iq', train_features, train_labels, features, params)"
   ]
  },
  {
   "cell_type": "code",
   "execution_count": 129,
   "metadata": {},
   "outputs": [],
   "source": [
    "cities = train_features.city.unique()\n",
    "result = pd.DataFrame()\n",
    "for c in cities:\n",
    "    result = result.append(predict_city(c, test_features, features, pks))"
   ]
  },
  {
   "cell_type": "code",
   "execution_count": 130,
   "metadata": {},
   "outputs": [
    {
     "data": {
      "text/html": [
       "<div>\n",
       "<style scoped>\n",
       "    .dataframe tbody tr th:only-of-type {\n",
       "        vertical-align: middle;\n",
       "    }\n",
       "\n",
       "    .dataframe tbody tr th {\n",
       "        vertical-align: top;\n",
       "    }\n",
       "\n",
       "    .dataframe thead th {\n",
       "        text-align: right;\n",
       "    }\n",
       "</style>\n",
       "<table border=\"1\" class=\"dataframe\">\n",
       "  <thead>\n",
       "    <tr style=\"text-align: right;\">\n",
       "      <th></th>\n",
       "      <th>city</th>\n",
       "      <th>year</th>\n",
       "      <th>weekofyear</th>\n",
       "      <th>total_cases</th>\n",
       "    </tr>\n",
       "  </thead>\n",
       "  <tbody>\n",
       "    <tr>\n",
       "      <th>0</th>\n",
       "      <td>sj</td>\n",
       "      <td>2008</td>\n",
       "      <td>18</td>\n",
       "      <td>27</td>\n",
       "    </tr>\n",
       "    <tr>\n",
       "      <th>1</th>\n",
       "      <td>sj</td>\n",
       "      <td>2008</td>\n",
       "      <td>19</td>\n",
       "      <td>20</td>\n",
       "    </tr>\n",
       "    <tr>\n",
       "      <th>2</th>\n",
       "      <td>sj</td>\n",
       "      <td>2008</td>\n",
       "      <td>20</td>\n",
       "      <td>24</td>\n",
       "    </tr>\n",
       "    <tr>\n",
       "      <th>3</th>\n",
       "      <td>sj</td>\n",
       "      <td>2008</td>\n",
       "      <td>21</td>\n",
       "      <td>39</td>\n",
       "    </tr>\n",
       "    <tr>\n",
       "      <th>4</th>\n",
       "      <td>sj</td>\n",
       "      <td>2008</td>\n",
       "      <td>22</td>\n",
       "      <td>22</td>\n",
       "    </tr>\n",
       "    <tr>\n",
       "      <th>...</th>\n",
       "      <td>...</td>\n",
       "      <td>...</td>\n",
       "      <td>...</td>\n",
       "      <td>...</td>\n",
       "    </tr>\n",
       "    <tr>\n",
       "      <th>151</th>\n",
       "      <td>iq</td>\n",
       "      <td>2013</td>\n",
       "      <td>22</td>\n",
       "      <td>10</td>\n",
       "    </tr>\n",
       "    <tr>\n",
       "      <th>152</th>\n",
       "      <td>iq</td>\n",
       "      <td>2013</td>\n",
       "      <td>23</td>\n",
       "      <td>6</td>\n",
       "    </tr>\n",
       "    <tr>\n",
       "      <th>153</th>\n",
       "      <td>iq</td>\n",
       "      <td>2013</td>\n",
       "      <td>24</td>\n",
       "      <td>6</td>\n",
       "    </tr>\n",
       "    <tr>\n",
       "      <th>154</th>\n",
       "      <td>iq</td>\n",
       "      <td>2013</td>\n",
       "      <td>25</td>\n",
       "      <td>7</td>\n",
       "    </tr>\n",
       "    <tr>\n",
       "      <th>155</th>\n",
       "      <td>iq</td>\n",
       "      <td>2013</td>\n",
       "      <td>26</td>\n",
       "      <td>4</td>\n",
       "    </tr>\n",
       "  </tbody>\n",
       "</table>\n",
       "<p>416 rows × 4 columns</p>\n",
       "</div>"
      ],
      "text/plain": [
       "    city  year  weekofyear  total_cases\n",
       "0     sj  2008          18           27\n",
       "1     sj  2008          19           20\n",
       "2     sj  2008          20           24\n",
       "3     sj  2008          21           39\n",
       "4     sj  2008          22           22\n",
       "..   ...   ...         ...          ...\n",
       "151   iq  2013          22           10\n",
       "152   iq  2013          23            6\n",
       "153   iq  2013          24            6\n",
       "154   iq  2013          25            7\n",
       "155   iq  2013          26            4\n",
       "\n",
       "[416 rows x 4 columns]"
      ]
     },
     "execution_count": 130,
     "metadata": {},
     "output_type": "execute_result"
    }
   ],
   "source": [
    "result"
   ]
  },
  {
   "cell_type": "code",
   "execution_count": 131,
   "metadata": {},
   "outputs": [],
   "source": [
    "result.to_csv('output_day2.csv', index=False)"
   ]
  },
  {
   "cell_type": "markdown",
   "metadata": {},
   "source": [
    "Create a model splitted by location (DONE)\n",
    "\n",
    "Calculate for last_week, last_two_weeks, last_month: (TODO)\n",
    "- precipitation\n",
    "- temperature\n",
    "- humidity\n",
    "\n",
    "Remove outliers (TODO)\n",
    "- sj results are really bad"
   ]
  },
  {
   "cell_type": "markdown",
   "metadata": {},
   "source": [
    "## Woo! I scored 27.8317 on 'DengAI: Predicting Disease Spread'!"
   ]
  },
  {
   "cell_type": "code",
   "execution_count": null,
   "metadata": {},
   "outputs": [],
   "source": []
  }
 ],
 "metadata": {
  "kernelspec": {
   "display_name": "Python 3",
   "language": "python",
   "name": "python3"
  },
  "language_info": {
   "codemirror_mode": {
    "name": "ipython",
    "version": 3
   },
   "file_extension": ".py",
   "mimetype": "text/x-python",
   "name": "python",
   "nbconvert_exporter": "python",
   "pygments_lexer": "ipython3",
   "version": "3.6.5"
  }
 },
 "nbformat": 4,
 "nbformat_minor": 2
}
